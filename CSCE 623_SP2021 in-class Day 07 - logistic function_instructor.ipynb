{
  "nbformat": 4,
  "nbformat_minor": 0,
  "metadata": {
    "kernelspec": {
      "display_name": "Python 3",
      "language": "python",
      "name": "python3"
    },
    "language_info": {
      "codemirror_mode": {
        "name": "ipython",
        "version": 3
      },
      "file_extension": ".py",
      "mimetype": "text/x-python",
      "name": "python",
      "nbconvert_exporter": "python",
      "pygments_lexer": "ipython3",
      "version": "3.8.5"
    },
    "colab": {
      "name": "CSCE 623_SP2021 in-class Day 07 - logistic function_instructor.ipynb",
      "provenance": []
    }
  },
  "cells": [
    {
      "cell_type": "markdown",
      "metadata": {
        "id": "44gc9JAUbj8s"
      },
      "source": [
        "# Day 7 \n",
        "Logistic Regression In Class Work"
      ]
    },
    {
      "cell_type": "code",
      "metadata": {
        "id": "FpMNjjEgbj81"
      },
      "source": [
        "import numpy as np\n",
        "import matplotlib.pyplot as plt"
      ],
      "execution_count": null,
      "outputs": []
    },
    {
      "cell_type": "markdown",
      "metadata": {
        "id": "X4frXtU1bj82"
      },
      "source": [
        "Helper function"
      ]
    },
    {
      "cell_type": "code",
      "metadata": {
        "id": "bNQduNEXbj82"
      },
      "source": [
        "def plotlogistic(x,py):\n",
        "    \"\"\" Plots x vs. prob(y)\n",
        "        Designed for logistic function \n",
        "    \"\"\"\n",
        "    fig = plt.figure()\n",
        "    ax = fig.add_subplot(111)\n",
        "    ax.plot(x,py)\n",
        "    ax.xaxis.set(ticks=range(-5,6))\n",
        "    ax.grid(axis='both')\n",
        "    plt.xlabel('x')\n",
        "    plt.ylabel('probability of y')\n",
        "    plt.title('Logistic Curve')\n",
        "    plt.show()"
      ],
      "execution_count": null,
      "outputs": []
    },
    {
      "cell_type": "markdown",
      "metadata": {
        "id": "2EhvFJ_Zbj83"
      },
      "source": [
        "The Logistic Function for a single feature is\n",
        "\n",
        "$$ p=P(y=1)=\\frac{e^{\\beta_0+\\beta_{1}X_{1}}}{1+e^{\\beta_0+\\beta_1X_1} }$$"
      ]
    },
    {
      "cell_type": "markdown",
      "metadata": {
        "id": "O2OYZNv7bj83"
      },
      "source": [
        "## Develop the logistic function - Student Coding part a:\n",
        "\n",
        "Define a python function to compute $P(y=1)$ from an input signature ```(x,beta0,beta1)``` where each beta is a scalar, X1 is a (n by 1) matrix and $P(y=1)$ is a (n by 1) matrix"
      ]
    },
    {
      "cell_type": "code",
      "metadata": {
        "id": "fvZoKwo3bj84"
      },
      "source": [
        "def logistic1D(x,beta0,beta1):\n",
        "    \"\"\" Return the probability of the logistic function for 1-Dimensional x\n",
        "        at the specified values of beta0 and beta1\n",
        "        will return an an item with the same shape as x which should be a vector.\n",
        "    \"\"\"\n",
        "    prob_y = np.zeros(x.shape)  #placeholder for return value\n",
        "\n",
        "    #------INSERT STUDENT CODE HERE TO COMPUTE THE LOGISTIC FUNCTION-----------\n",
        "    numerator = np.exp((beta0+(beta1*x)))\n",
        "    denominator = 1+np.exp((beta0+(beta1*x)))\n",
        "    prob_y = numerator/denominator\n",
        "    #------------END OF STUDENT CODE-------------------------\n",
        "    return prob_y\n"
      ],
      "execution_count": null,
      "outputs": []
    },
    {
      "cell_type": "markdown",
      "metadata": {
        "id": "T_kawpQ5bj84"
      },
      "source": [
        "Instantiate x values"
      ]
    },
    {
      "cell_type": "code",
      "metadata": {
        "id": "EfZdcV0zbj85"
      },
      "source": [
        "x = np.arange(-6, 6, 0.01)"
      ],
      "execution_count": null,
      "outputs": []
    },
    {
      "cell_type": "markdown",
      "metadata": {
        "id": "hprIMgN8bj85"
      },
      "source": [
        "Beta Selection for canonical S curve: Student Coding for part c\n",
        "\n",
        "Your goal is to select scalar values for ```beta0``` and ```beta1``` to replicate s-curve canonical logistic function shape shown in the image below\n",
        "\n",
        "<img src=\"https://github.com/afit-csce623-master/template-inclass-day07/blob/main/Logistic-S-curve-canonical.png?raw=1\">"
      ]
    },
    {
      "cell_type": "code",
      "metadata": {
        "id": "7x3t37enbj85"
      },
      "source": [
        "#select betas to try to recreate graph in part C\n",
        "\n",
        "#------INSERT STUDENT CODE HERE FOR BETAS------------\n",
        "b0 = 0.0  \n",
        "b1 = 1.0  \n",
        "#----------------------------------------------------"
      ],
      "execution_count": null,
      "outputs": []
    },
    {
      "cell_type": "markdown",
      "metadata": {
        "id": "BpWuYZznbj86"
      },
      "source": [
        "build the resulting logistic graph"
      ]
    },
    {
      "cell_type": "code",
      "metadata": {
        "id": "2c6UBr0bbj86",
        "colab": {
          "base_uri": "https://localhost:8080/",
          "height": 295
        },
        "outputId": "b5d9d352-bad5-4934-ff7f-5d3fd213691f"
      },
      "source": [
        "py = logistic1D(x,b0,b1) \n",
        "plotlogistic(x,py)"
      ],
      "execution_count": null,
      "outputs": [
        {
          "output_type": "display_data",
          "data": {
            "image/png": "[encoded data removed]",
            "text/plain": [
              "<Figure size 432x288 with 1 Axes>"
            ]
          },
          "metadata": {
            "tags": [],
            "needs_background": "light"
          }
        }
      ]
    },
    {
      "cell_type": "markdown",
      "metadata": {
        "id": "FnmxCIh1bj87"
      },
      "source": [
        "## Beta Selection for Stairstep down: Student Coding for part F\n",
        "\n",
        "Your goal is to select scalar values for ```beta0``` and ```beta1``` to replicate downward step-function shape using the logistic function shown in the image below\n",
        "\n",
        "<img src=\"https://github.com/afit-csce623-master/template-inclass-day07/blob/main/Logistic-stairstep-down.png?raw=1\">\n"
      ]
    },
    {
      "cell_type": "code",
      "metadata": {
        "id": "O6qev6tSbj88"
      },
      "source": [
        "#select betas to try to recreate graph in instructions part F\n",
        "\n",
        "#------INSERT STUDENT CODE HERE FOR BETAS------------\n",
        "b0 = -100.0  #placeholder\n",
        "b1 = -100.0  #placeholder\n",
        "#----------------------------------------------------"
      ],
      "execution_count": null,
      "outputs": []
    },
    {
      "cell_type": "markdown",
      "metadata": {
        "id": "E1meUG7Gbj88"
      },
      "source": [
        "build the resulting logistic graph"
      ]
    },
    {
      "cell_type": "code",
      "metadata": {
        "id": "BJ-jpSH0bj89",
        "colab": {
          "base_uri": "https://localhost:8080/",
          "height": 295
        },
        "outputId": "c3d6196e-c606-4f7e-f09e-6196edbaf3da"
      },
      "source": [
        "py = logistic1D(x,b0,b1) \n",
        "plotlogistic(x,py)"
      ],
      "execution_count": null,
      "outputs": [
        {
          "output_type": "display_data",
          "data": {
            "image/png": "[encoded data removed]",
            "text/plain": [
              "<Figure size 432x288 with 1 Axes>"
            ]
          },
          "metadata": {
            "tags": [],
            "needs_background": "light"
          }
        }
      ]
    }
  ]
}